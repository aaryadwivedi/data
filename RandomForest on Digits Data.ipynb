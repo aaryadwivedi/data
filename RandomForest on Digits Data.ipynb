from sklearn.datasets import load_digits
digits = load_digits()
digits
# sklearn load_digits() will give us a dictionary

digits.keys()

import matplotlib.pyplot as plt

 plt.matshow(digits.images[2]) # matshow

 # digits has a key images, it is an array 2D 

import pandas as pd
df = pd.DataFrame(digits.data)


Every Image has 8 x 8 =  64 cells  
Every cell has an index   
Index starts from 0 and ends with 63 
Every cell has a float value which means color

0 means black and higher values means ligher colors

df.head()

# How to check number of rows and columns in a dataframe ?

df.shape

# 0 - 9 Digits - 1797 version 
plt.gray()
# Every digit has 180 samples 
plt.matshow(digits.images[256]) 

df

digits.target # Series 

target_series = pd.Series(digits.target)

target_series

digits.data

# In Df we are adding a column , target 

df['target'] = digits.target


df

plt.matshow(digits.images[1792]) 

# Creating X and y 
X = df.drop('target',axis='columns')
y = df.target


# Splitting data into training and testing
from sklearn.model_selection import train_test_split
X_train, X_test, y_train, y_test = train_test_split(X,y,test_size=0.2)


# SVM ->  SVC  |  tree -> DecisionTree |  linear_model -> LinearRegression
from sklearn.ensemble import RandomForestClassifier

model = RandomForestClassifier(n_estimators=20)

model.fit(X_train, y_train)


model.score(X_test, y_test) 

y_predicted = model.predict(X_test)


from sklearn.metrics import confusion_matrix
cm = confusion_matrix(y_test, y_predicted)
cm


import seaborn as sn
plt.figure(figsize=(10,7))
sn.heatmap(cm, annot=True)
plt.xlabel('Predicted')
plt.ylabel('Truth')


